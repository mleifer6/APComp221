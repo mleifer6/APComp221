{
 "cells": [
  {
   "cell_type": "markdown",
   "metadata": {},
   "source": [
    "### Integration Tests"
   ]
  },
  {
   "cell_type": "code",
   "execution_count": null,
   "metadata": {},
   "outputs": [],
   "source": [
    "import unittest\n",
    "# import identification.ipynb as iden\n",
    "\n",
    "# reload(iden)\n",
    "def add_routes(config):\n",
    "    config.add_route(\"mid_sample_set.csv\")\n",
    "\n",
    "def test_addSyntheticRows(self):\n",
    "    self.asserTrue(' '.isNan())\n",
    "    self.assertFalse('foo'.isNan())\n",
    "\n",
    "def test_config(self):\n",
    "    self.assertEqual('[0,1,2,3,4]'.read_config(), 'FOO')\n",
    "\n",
    "def test_getKAnonFeatureRate(self):\n",
    "\n",
    "\n",
    "def test_addSyntheticRows(self):\n",
    "        \n",
    "def test_blurring(self):\n",
    "    \n",
    "def test_generalizeField(self):\n"
   ]
  },
  {
   "cell_type": "code",
   "execution_count": null,
   "metadata": {},
   "outputs": [],
   "source": []
  }
 ],
 "metadata": {
  "kernelspec": {
   "display_name": "Python 3",
   "language": "python",
   "name": "python3"
  },
  "language_info": {
   "codemirror_mode": {
    "name": "ipython",
    "version": 3
   },
   "file_extension": ".py",
   "mimetype": "text/x-python",
   "name": "python",
   "nbconvert_exporter": "python",
   "pygments_lexer": "ipython3",
   "version": "3.6.4"
  }
 },
 "nbformat": 4,
 "nbformat_minor": 2
}
