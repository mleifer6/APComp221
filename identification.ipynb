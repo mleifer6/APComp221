{
 "cells": [
  {
   "cell_type": "markdown",
   "metadata": {},
   "source": [
    "## Re-identification/De-identification \n"
   ]
  },
  {
   "cell_type": "markdown",
   "metadata": {},
   "source": [
    "Read a configuration file containing integers that correspond to column numbers in the\n",
    "dataset. Each integer represents a quasi-identifier. \n"
   ]
  },
  {
   "cell_type": "code",
   "execution_count": 2,
   "metadata": {},
   "outputs": [],
   "source": [
    "def read_config(config_file):\n",
    "    with open(config_file) as file:\n",
    "        identifiers = [int(q) for q in file.read().split()]\n",
    "    file.close()\n",
    "    return sorted(identifiers)\n"
   ]
  },
  {
   "cell_type": "code",
   "execution_count": 3,
   "metadata": {},
   "outputs": [
    {
     "data": {
      "text/plain": [
       "[0, 1, 2, 3, 4, 5, 6, 7, 8, 9, 10, 11, 12, 13, 14, 15, 16, 17, 18, 19, 20]"
      ]
     },
     "execution_count": 3,
     "metadata": {},
     "output_type": "execute_result"
    }
   ],
   "source": [
    "read_config(\"config_test.txt\")"
   ]
  },
  {
   "cell_type": "markdown",
   "metadata": {},
   "source": [
    "### Import data"
   ]
  },
  {
   "cell_type": "code",
   "execution_count": 4,
   "metadata": {},
   "outputs": [],
   "source": [
    "import pandas as pd"
   ]
  },
  {
   "cell_type": "code",
   "execution_count": 5,
   "metadata": {},
   "outputs": [],
   "source": [
    "df = pd.read_csv(\"mid_sample_set.csv\", dtype='unicode')"
   ]
  },
  {
   "cell_type": "code",
   "execution_count": 6,
   "metadata": {},
   "outputs": [
    {
     "data": {
      "text/plain": [
       "(199999, 91)"
      ]
     },
     "execution_count": 6,
     "metadata": {},
     "output_type": "execute_result"
    }
   ],
   "source": [
    "df.shape"
   ]
  },
  {
   "cell_type": "code",
   "execution_count": 7,
   "metadata": {},
   "outputs": [
    {
     "data": {
      "text/html": [
       "<div>\n",
       "<style scoped>\n",
       "    .dataframe tbody tr th:only-of-type {\n",
       "        vertical-align: middle;\n",
       "    }\n",
       "\n",
       "    .dataframe tbody tr th {\n",
       "        vertical-align: top;\n",
       "    }\n",
       "\n",
       "    .dataframe thead th {\n",
       "        text-align: right;\n",
       "    }\n",
       "</style>\n",
       "<table border=\"1\" class=\"dataframe\">\n",
       "  <thead>\n",
       "    <tr style=\"text-align: right;\">\n",
       "      <th></th>\n",
       "      <th>course_id</th>\n",
       "      <th>user_id</th>\n",
       "      <th>registered</th>\n",
       "      <th>viewed</th>\n",
       "      <th>explored</th>\n",
       "      <th>certified</th>\n",
       "      <th>completed</th>\n",
       "      <th>ip</th>\n",
       "      <th>cc_by_ip</th>\n",
       "      <th>countryLabel</th>\n",
       "      <th>...</th>\n",
       "      <th>roles_isInstructor</th>\n",
       "      <th>roles_isStaff</th>\n",
       "      <th>roles_isCCX</th>\n",
       "      <th>roles_isFinance</th>\n",
       "      <th>roles_isLibrary</th>\n",
       "      <th>roles_isSales</th>\n",
       "      <th>forumRoles_isAdmin</th>\n",
       "      <th>forumRoles_isCommunityTA</th>\n",
       "      <th>forumRoles_isModerator</th>\n",
       "      <th>forumRoles_isStudent</th>\n",
       "    </tr>\n",
       "  </thead>\n",
       "  <tbody>\n",
       "    <tr>\n",
       "      <th>0</th>\n",
       "      <td>HarvardX/PH525.1x/1T2018</td>\n",
       "      <td>29940</td>\n",
       "      <td>True</td>\n",
       "      <td>False</td>\n",
       "      <td>NaN</td>\n",
       "      <td>False</td>\n",
       "      <td>False</td>\n",
       "      <td>198.214.249.125</td>\n",
       "      <td>US</td>\n",
       "      <td>United States</td>\n",
       "      <td>...</td>\n",
       "      <td>NaN</td>\n",
       "      <td>NaN</td>\n",
       "      <td>NaN</td>\n",
       "      <td>NaN</td>\n",
       "      <td>NaN</td>\n",
       "      <td>NaN</td>\n",
       "      <td>NaN</td>\n",
       "      <td>NaN</td>\n",
       "      <td>NaN</td>\n",
       "      <td>1</td>\n",
       "    </tr>\n",
       "    <tr>\n",
       "      <th>1</th>\n",
       "      <td>HarvardX/PH525.1x/1T2018</td>\n",
       "      <td>37095</td>\n",
       "      <td>True</td>\n",
       "      <td>False</td>\n",
       "      <td>NaN</td>\n",
       "      <td>False</td>\n",
       "      <td>False</td>\n",
       "      <td>119.30.45.190</td>\n",
       "      <td>BD</td>\n",
       "      <td>Bangladesh</td>\n",
       "      <td>...</td>\n",
       "      <td>NaN</td>\n",
       "      <td>NaN</td>\n",
       "      <td>NaN</td>\n",
       "      <td>NaN</td>\n",
       "      <td>NaN</td>\n",
       "      <td>NaN</td>\n",
       "      <td>NaN</td>\n",
       "      <td>NaN</td>\n",
       "      <td>NaN</td>\n",
       "      <td>1</td>\n",
       "    </tr>\n",
       "    <tr>\n",
       "      <th>2</th>\n",
       "      <td>HarvardX/PH525.1x/1T2018</td>\n",
       "      <td>45634</td>\n",
       "      <td>True</td>\n",
       "      <td>False</td>\n",
       "      <td>NaN</td>\n",
       "      <td>False</td>\n",
       "      <td>False</td>\n",
       "      <td>201.233.80.3</td>\n",
       "      <td>CO</td>\n",
       "      <td>Colombia</td>\n",
       "      <td>...</td>\n",
       "      <td>NaN</td>\n",
       "      <td>NaN</td>\n",
       "      <td>NaN</td>\n",
       "      <td>NaN</td>\n",
       "      <td>NaN</td>\n",
       "      <td>NaN</td>\n",
       "      <td>NaN</td>\n",
       "      <td>NaN</td>\n",
       "      <td>NaN</td>\n",
       "      <td>1</td>\n",
       "    </tr>\n",
       "    <tr>\n",
       "      <th>3</th>\n",
       "      <td>HarvardX/PH525.1x/1T2018</td>\n",
       "      <td>52234</td>\n",
       "      <td>True</td>\n",
       "      <td>False</td>\n",
       "      <td>NaN</td>\n",
       "      <td>False</td>\n",
       "      <td>False</td>\n",
       "      <td>213.114.41.34</td>\n",
       "      <td>SE</td>\n",
       "      <td>Sweden</td>\n",
       "      <td>...</td>\n",
       "      <td>NaN</td>\n",
       "      <td>NaN</td>\n",
       "      <td>NaN</td>\n",
       "      <td>NaN</td>\n",
       "      <td>NaN</td>\n",
       "      <td>NaN</td>\n",
       "      <td>NaN</td>\n",
       "      <td>NaN</td>\n",
       "      <td>NaN</td>\n",
       "      <td>1</td>\n",
       "    </tr>\n",
       "    <tr>\n",
       "      <th>4</th>\n",
       "      <td>HarvardX/PH525.1x/1T2018</td>\n",
       "      <td>52238</td>\n",
       "      <td>True</td>\n",
       "      <td>True</td>\n",
       "      <td>False</td>\n",
       "      <td>False</td>\n",
       "      <td>False</td>\n",
       "      <td>177.226.237.217</td>\n",
       "      <td>MX</td>\n",
       "      <td>Mexico</td>\n",
       "      <td>...</td>\n",
       "      <td>NaN</td>\n",
       "      <td>NaN</td>\n",
       "      <td>NaN</td>\n",
       "      <td>NaN</td>\n",
       "      <td>NaN</td>\n",
       "      <td>NaN</td>\n",
       "      <td>NaN</td>\n",
       "      <td>NaN</td>\n",
       "      <td>NaN</td>\n",
       "      <td>1</td>\n",
       "    </tr>\n",
       "  </tbody>\n",
       "</table>\n",
       "<p>5 rows × 91 columns</p>\n",
       "</div>"
      ],
      "text/plain": [
       "                  course_id user_id registered viewed explored certified  \\\n",
       "0  HarvardX/PH525.1x/1T2018   29940       True  False      NaN     False   \n",
       "1  HarvardX/PH525.1x/1T2018   37095       True  False      NaN     False   \n",
       "2  HarvardX/PH525.1x/1T2018   45634       True  False      NaN     False   \n",
       "3  HarvardX/PH525.1x/1T2018   52234       True  False      NaN     False   \n",
       "4  HarvardX/PH525.1x/1T2018   52238       True   True    False     False   \n",
       "\n",
       "  completed               ip cc_by_ip   countryLabel         ...           \\\n",
       "0     False  198.214.249.125       US  United States         ...            \n",
       "1     False    119.30.45.190       BD     Bangladesh         ...            \n",
       "2     False     201.233.80.3       CO       Colombia         ...            \n",
       "3     False    213.114.41.34       SE         Sweden         ...            \n",
       "4     False  177.226.237.217       MX         Mexico         ...            \n",
       "\n",
       "  roles_isInstructor roles_isStaff roles_isCCX roles_isFinance  \\\n",
       "0                NaN           NaN         NaN             NaN   \n",
       "1                NaN           NaN         NaN             NaN   \n",
       "2                NaN           NaN         NaN             NaN   \n",
       "3                NaN           NaN         NaN             NaN   \n",
       "4                NaN           NaN         NaN             NaN   \n",
       "\n",
       "  roles_isLibrary roles_isSales forumRoles_isAdmin forumRoles_isCommunityTA  \\\n",
       "0             NaN           NaN                NaN                      NaN   \n",
       "1             NaN           NaN                NaN                      NaN   \n",
       "2             NaN           NaN                NaN                      NaN   \n",
       "3             NaN           NaN                NaN                      NaN   \n",
       "4             NaN           NaN                NaN                      NaN   \n",
       "\n",
       "  forumRoles_isModerator forumRoles_isStudent  \n",
       "0                    NaN                    1  \n",
       "1                    NaN                    1  \n",
       "2                    NaN                    1  \n",
       "3                    NaN                    1  \n",
       "4                    NaN                    1  \n",
       "\n",
       "[5 rows x 91 columns]"
      ]
     },
     "execution_count": 7,
     "metadata": {},
     "output_type": "execute_result"
    }
   ],
   "source": [
    "df.head()"
   ]
  },
  {
   "cell_type": "markdown",
   "metadata": {},
   "source": [
    "### Direct Identifiers\n",
    "- Can uniquely identify an individual and should be removed"
   ]
  },
  {
   "cell_type": "markdown",
   "metadata": {},
   "source": [
    "### Quasi-Identifiers\n",
    "- Can uniquely identify an individual when linked to other datasets. \n",
    "- These include:<font color=red> [INSERT AFTER SUNDAY] </font> and are listed as their corresponding column index in the configuration file.\n",
    "- Create a version of the dataset that only contains the quasi-identifiers."
   ]
  },
  {
   "cell_type": "code",
   "execution_count": 203,
   "metadata": {},
   "outputs": [
    {
     "name": "stdout",
     "output_type": "stream",
     "text": [
      "[0, 1, 2, 3, 4, 5, 6, 7, 8, 9, 10, 11, 12, 13, 14, 15, 16, 17, 18, 19, 20]\n"
     ]
    }
   ],
   "source": [
    "quasi_identifiers = read_config(\"config_test.txt\")\n",
    "print((quasi_identifiers))\n",
    "df_quasi = df.iloc[:,quasi_identifiers]\n",
    "df_quasi.index = df.user_id\n",
    "df_quasi = df_quasi.drop('user_id', axis = 1)"
   ]
  },
  {
   "cell_type": "markdown",
   "metadata": {},
   "source": [
    "### K-Anonymity\n",
    "- What remains of the dataset if you make it k-anonymous using suppression\n",
    "- What is the completion rate for each class at each of these levels."
   ]
  },
  {
   "cell_type": "markdown",
   "metadata": {},
   "source": []
  },
  {
   "cell_type": "code",
   "execution_count": 223,
   "metadata": {
    "scrolled": true
   },
   "outputs": [
    {
     "data": {
      "text/plain": [
       "course_id                registered  completed  city                    region\n",
       "HarvardX/1368.2x/2T2015  True        False      Abbottabad              NW        1\n",
       "                                                Acton                   MA        1\n",
       "                                                Ahmedabad               GJ        1\n",
       "                                                Al Ain                  AZ        1\n",
       "                                                Alameda                 CA        1\n",
       "                                                Altamonte Springs       FL        1\n",
       "                                                Angers                  49        1\n",
       "                                                Arlington               MA        1\n",
       "                                                                        TX        1\n",
       "                                                Asheville               NC        2\n",
       "                                                Astoria                 NY        1\n",
       "                                                Athens                  I         1\n",
       "                                                Atitalaquia             HID       1\n",
       "                                                Austin                  TX        2\n",
       "                                                Bad Neuenahr-ahrweiler  RP        1\n",
       "                                                Band                    02        1\n",
       "                                                Bangalore               KA        2\n",
       "                                                Bangkok                 10        1\n",
       "                                                Beijing                 11        1\n",
       "                                                Beirut                  BA        1\n",
       "                                                Bellerose               NY        1\n",
       "                                                Belleville              NJ        1\n",
       "                                                Belmar                  NJ        1\n",
       "                                                Belmont                 MA        1\n",
       "                                                Berkeley                CA        1\n",
       "                                                Berlin                  BE        1\n",
       "                                                Bogotá                  DC        2\n",
       "                                                Boston                  MA        5\n",
       "                                                Boulder                 CO        1\n",
       "                                                Brasov                  BV        1\n",
       "                                                                                 ..\n",
       "VJx/VJx_S/3T2015         True        True       Antwerpen               VAN       1\n",
       "                                                Athens                  I         1\n",
       "                                                Brno                    622       1\n",
       "                                                Brussels                BRU       1\n",
       "                                                Casablanca              CAS       1\n",
       "                                                Charlottesville         VA        1\n",
       "                                                Chicago                 IL        1\n",
       "                                                Ferreira                O         1\n",
       "                                                Grovetown               GA        1\n",
       "                                                Hamburg                 HH        1\n",
       "                                                Houston                 TX        1\n",
       "                                                Hägersten               AB        1\n",
       "                                                Las Vegas               NV        1\n",
       "                                                London                  ENG       2\n",
       "                                                Los Angeles             CA        1\n",
       "                                                Marrickville            NSW       1\n",
       "                                                Mount Gravatt           QLD       1\n",
       "                                                Nogales                 SON       1\n",
       "                                                Northampton             MA        1\n",
       "                                                Okayama                 33        1\n",
       "                                                Paris                   75        1\n",
       "                                                Rome                    RM        1\n",
       "                                                Santa Clara             CA        1\n",
       "                                                Schwäbisch Gmünd        BW        1\n",
       "                                                Sighisoara              MS        1\n",
       "                                                Toowong                 QLD       1\n",
       "                                                Valencia                V         1\n",
       "                                                Vincennes               94        1\n",
       "                                                Waverly                 GP        1\n",
       "                                                Yowie Bay               NSW       1\n",
       "Length: 69800, dtype: int64"
      ]
     },
     "execution_count": 223,
     "metadata": {},
     "output_type": "execute_result"
    }
   ],
   "source": [
    "df_quasi.reset_index().groupby(quasi_identifiers_labels_test).size()"
   ]
  },
  {
   "cell_type": "code",
   "execution_count": 224,
   "metadata": {},
   "outputs": [],
   "source": [
    "def getAnonCompletionRates(df_quasi, quasi_identifiers_labels_test, k):\n",
    "    k_anonymous = df_quasi.groupby(quasi_identifiers_labels_test)\\\n",
    "                  .size().reset_index(name = 'ct')\n",
    "    k_anonymous = k_anonymous[k_anonymous.ct >= k]\n",
    "    print(\"Size of %d-anonymous dataset: %d\" % (k, k_anonymous.ct.sum()))\n",
    "    k_AnonCompletionCounts = k_anonymous[[\"course_id\", \"completed\", \"ct\"]]\\\n",
    "    .groupby(['course_id', \"completed\"])[\"ct\"].sum()\\\n",
    "    .reset_index(name = \"numStudents\").set_index(\"course_id\")\n",
    "    \n",
    "    k_AnonTotalCounts = k_anonymous[[\"course_id\", \"ct\"]]\\\n",
    "    .groupby(['course_id'])[\"ct\"].sum()\\\n",
    "    .reset_index(name = \"numStudents\").set_index(\"course_id\")\n",
    "    \n",
    "    completionRates = (k_AnonCompletionCounts[k_AnonCompletionCounts.completed == 'True'].numStudents \n",
    "    / k_AnonTotalCounts.numStudents).fillna(0) *100;\n",
    "    \n",
    "    return (completionRates.reset_index(name = \"completionRate\")\\\n",
    "    .sort_values(by = \"completionRate\", ascending = False))\n",
    "    "
   ]
  },
  {
   "cell_type": "markdown",
   "metadata": {},
   "source": [
    "When k = 3"
   ]
  },
  {
   "cell_type": "code",
   "execution_count": 225,
   "metadata": {},
   "outputs": [
    {
     "name": "stdout",
     "output_type": "stream",
     "text": [
      "Size of 3-anonymous dataset: 78951\n"
     ]
    }
   ],
   "source": [
    "completionRate3Anon = getAnonCompletionRates(df_quasi, quasi_identifiers_labels_test, 3)"
   ]
  },
  {
   "cell_type": "code",
   "execution_count": 226,
   "metadata": {
    "scrolled": true
   },
   "outputs": [
    {
     "data": {
      "text/html": [
       "<div>\n",
       "<style scoped>\n",
       "    .dataframe tbody tr th:only-of-type {\n",
       "        vertical-align: middle;\n",
       "    }\n",
       "\n",
       "    .dataframe tbody tr th {\n",
       "        vertical-align: top;\n",
       "    }\n",
       "\n",
       "    .dataframe thead th {\n",
       "        text-align: right;\n",
       "    }\n",
       "</style>\n",
       "<table border=\"1\" class=\"dataframe\">\n",
       "  <thead>\n",
       "    <tr style=\"text-align: right;\">\n",
       "      <th></th>\n",
       "      <th>course_id</th>\n",
       "      <th>completionRate</th>\n",
       "    </tr>\n",
       "  </thead>\n",
       "  <tbody>\n",
       "    <tr>\n",
       "      <th>32</th>\n",
       "      <td>HarvardX/Hum3.1x/1T2016</td>\n",
       "      <td>5.069124</td>\n",
       "    </tr>\n",
       "    <tr>\n",
       "      <th>45</th>\n",
       "      <td>HarvardX/PH207x/2012_Fall</td>\n",
       "      <td>4.679803</td>\n",
       "    </tr>\n",
       "    <tr>\n",
       "      <th>88</th>\n",
       "      <td>HarvardX/SW12.3x/2016</td>\n",
       "      <td>4.615385</td>\n",
       "    </tr>\n",
       "    <tr>\n",
       "      <th>38</th>\n",
       "      <td>HarvardX/MUS24.3x/1T2016</td>\n",
       "      <td>4.324324</td>\n",
       "    </tr>\n",
       "    <tr>\n",
       "      <th>28</th>\n",
       "      <td>HarvardX/HUM1.6x/3T2015</td>\n",
       "      <td>4.109589</td>\n",
       "    </tr>\n",
       "  </tbody>\n",
       "</table>\n",
       "</div>"
      ],
      "text/plain": [
       "                    course_id  completionRate\n",
       "32    HarvardX/Hum3.1x/1T2016        5.069124\n",
       "45  HarvardX/PH207x/2012_Fall        4.679803\n",
       "88      HarvardX/SW12.3x/2016        4.615385\n",
       "38   HarvardX/MUS24.3x/1T2016        4.324324\n",
       "28    HarvardX/HUM1.6x/3T2015        4.109589"
      ]
     },
     "execution_count": 226,
     "metadata": {},
     "output_type": "execute_result"
    }
   ],
   "source": [
    "completionRate3Anon.head()"
   ]
  },
  {
   "cell_type": "markdown",
   "metadata": {},
   "source": [
    "When k = 4"
   ]
  },
  {
   "cell_type": "code",
   "execution_count": 227,
   "metadata": {},
   "outputs": [
    {
     "name": "stdout",
     "output_type": "stream",
     "text": [
      "Size of 4-anonymous dataset: 68973\n"
     ]
    }
   ],
   "source": [
    "completionRate4Anon = getAnonCompletionRates(df_quasi, quasi_identifiers_labels_test, 4)"
   ]
  },
  {
   "cell_type": "code",
   "execution_count": 228,
   "metadata": {
    "scrolled": true
   },
   "outputs": [
    {
     "data": {
      "text/html": [
       "<div>\n",
       "<style scoped>\n",
       "    .dataframe tbody tr th:only-of-type {\n",
       "        vertical-align: middle;\n",
       "    }\n",
       "\n",
       "    .dataframe tbody tr th {\n",
       "        vertical-align: top;\n",
       "    }\n",
       "\n",
       "    .dataframe thead th {\n",
       "        text-align: right;\n",
       "    }\n",
       "</style>\n",
       "<table border=\"1\" class=\"dataframe\">\n",
       "  <thead>\n",
       "    <tr style=\"text-align: right;\">\n",
       "      <th></th>\n",
       "      <th>course_id</th>\n",
       "      <th>completionRate</th>\n",
       "    </tr>\n",
       "  </thead>\n",
       "  <tbody>\n",
       "    <tr>\n",
       "      <th>36</th>\n",
       "      <td>HarvardX/MUS24.3x/1T2016</td>\n",
       "      <td>5.714286</td>\n",
       "    </tr>\n",
       "    <tr>\n",
       "      <th>31</th>\n",
       "      <td>HarvardX/Hum3.1x/1T2016</td>\n",
       "      <td>4.819277</td>\n",
       "    </tr>\n",
       "    <tr>\n",
       "      <th>43</th>\n",
       "      <td>HarvardX/PH207x/2012_Fall</td>\n",
       "      <td>3.787466</td>\n",
       "    </tr>\n",
       "    <tr>\n",
       "      <th>42</th>\n",
       "      <td>HarvardX/PH201x/2013_SOND</td>\n",
       "      <td>1.588310</td>\n",
       "    </tr>\n",
       "    <tr>\n",
       "      <th>94</th>\n",
       "      <td>Harvardx/HLS2X/2T2017</td>\n",
       "      <td>1.492537</td>\n",
       "    </tr>\n",
       "  </tbody>\n",
       "</table>\n",
       "</div>"
      ],
      "text/plain": [
       "                    course_id  completionRate\n",
       "36   HarvardX/MUS24.3x/1T2016        5.714286\n",
       "31    HarvardX/Hum3.1x/1T2016        4.819277\n",
       "43  HarvardX/PH207x/2012_Fall        3.787466\n",
       "42  HarvardX/PH201x/2013_SOND        1.588310\n",
       "94      Harvardx/HLS2X/2T2017        1.492537"
      ]
     },
     "execution_count": 228,
     "metadata": {},
     "output_type": "execute_result"
    }
   ],
   "source": [
    "completionRate4Anon.head()"
   ]
  },
  {
   "cell_type": "markdown",
   "metadata": {},
   "source": [
    "When k = 5"
   ]
  },
  {
   "cell_type": "code",
   "execution_count": 229,
   "metadata": {},
   "outputs": [
    {
     "name": "stdout",
     "output_type": "stream",
     "text": [
      "Size of 5-anonymous dataset: 61745\n"
     ]
    }
   ],
   "source": [
    "completionRate5Anon = getAnonCompletionRates(df_quasi, quasi_identifiers_labels_test, 5)"
   ]
  },
  {
   "cell_type": "code",
   "execution_count": 230,
   "metadata": {},
   "outputs": [
    {
     "data": {
      "text/html": [
       "<div>\n",
       "<style scoped>\n",
       "    .dataframe tbody tr th:only-of-type {\n",
       "        vertical-align: middle;\n",
       "    }\n",
       "\n",
       "    .dataframe tbody tr th {\n",
       "        vertical-align: top;\n",
       "    }\n",
       "\n",
       "    .dataframe thead th {\n",
       "        text-align: right;\n",
       "    }\n",
       "</style>\n",
       "<table border=\"1\" class=\"dataframe\">\n",
       "  <thead>\n",
       "    <tr style=\"text-align: right;\">\n",
       "      <th></th>\n",
       "      <th>course_id</th>\n",
       "      <th>completionRate</th>\n",
       "    </tr>\n",
       "  </thead>\n",
       "  <tbody>\n",
       "    <tr>\n",
       "      <th>34</th>\n",
       "      <td>HarvardX/MUS24.3x/1T2016</td>\n",
       "      <td>7.407407</td>\n",
       "    </tr>\n",
       "    <tr>\n",
       "      <th>30</th>\n",
       "      <td>HarvardX/Hum3.1x/1T2016</td>\n",
       "      <td>7.272727</td>\n",
       "    </tr>\n",
       "    <tr>\n",
       "      <th>40</th>\n",
       "      <td>HarvardX/PH207x/2012_Fall</td>\n",
       "      <td>3.301606</td>\n",
       "    </tr>\n",
       "    <tr>\n",
       "      <th>39</th>\n",
       "      <td>HarvardX/PH201x/2013_SOND</td>\n",
       "      <td>1.216023</td>\n",
       "    </tr>\n",
       "    <tr>\n",
       "      <th>67</th>\n",
       "      <td>HarvardX/PH555x/2014_T2</td>\n",
       "      <td>1.198257</td>\n",
       "    </tr>\n",
       "  </tbody>\n",
       "</table>\n",
       "</div>"
      ],
      "text/plain": [
       "                    course_id  completionRate\n",
       "34   HarvardX/MUS24.3x/1T2016        7.407407\n",
       "30    HarvardX/Hum3.1x/1T2016        7.272727\n",
       "40  HarvardX/PH207x/2012_Fall        3.301606\n",
       "39  HarvardX/PH201x/2013_SOND        1.216023\n",
       "67    HarvardX/PH555x/2014_T2        1.198257"
      ]
     },
     "execution_count": 230,
     "metadata": {},
     "output_type": "execute_result"
    }
   ],
   "source": [
    "completionRate5Anon.head()"
   ]
  },
  {
   "cell_type": "markdown",
   "metadata": {},
   "source": [
    "### Synthetic Records\n",
    "- Make the data k-anonymous\n",
    "- Find the number of synthetic records needed for each case\n",
    "- Compute completion rates and compare to dataset without synthetic records"
   ]
  },
  {
   "cell_type": "markdown",
   "metadata": {},
   "source": [
    "When k = 3"
   ]
  },
  {
   "cell_type": "code",
   "execution_count": 262,
   "metadata": {},
   "outputs": [],
   "source": [
    "def addSyntheticRows(df_quasi, k):\n",
    "    synthetic_k_anon_df = df_quasi.reset_index()\n",
    "    not_k_anonymous = synthetic_k_anon_df.groupby(quasi_identifiers_labels_test)\\\n",
    "                  .size().reset_index(name = 'studentCount')\n",
    "    not_k_anonymous = not_k_anonymous[not_k_anonymous.studentCount < k]\n",
    "\n",
    "    for i in range(k):\n",
    "        rowsToAdd = not_k_anonymous[not_k_anonymous.studentCount == i]\n",
    "        if len(rowsToAdd) > 0:\n",
    "            for j in range(k - i):\n",
    "                synthetic_k_anon_df = synthetic_k_anon_df.append(rowsToAdd, ignore_index = True)\n",
    "            \n",
    "    rowsAdded = synthetic_k_anon_df.shape[0] - len(df_quasi)\n",
    "    print(\"Size of synthetic dataset: %d\\nSynthetic Rows Added: %d\" % (len(synthetic_k_anon_df), rowsAdded))\n",
    "    # Drop the studentCount column from the dataset we return because df_quasi does not\n",
    "    # have it.  This column is an artifact of when we grouped synthetic_k_anon_df above\n",
    "    synthetic_k_anon_df = synthetic_k_anon_df.drop(\"studentCount\", axis = 1)\n",
    "    return synthetic_k_anon_df\n",
    "    "
   ]
  },
  {
   "cell_type": "markdown",
   "metadata": {},
   "source": [
    "Add synthetic data when k = 3"
   ]
  },
  {
   "cell_type": "code",
   "execution_count": 264,
   "metadata": {},
   "outputs": [],
   "source": [
    "synthetic3AnonDf = addSyntheticRows(df_quasi, 3)"
   ]
  },
  {
   "cell_type": "markdown",
   "metadata": {},
   "source": [
    "Add synthetic data when k = 4"
   ]
  },
  {
   "cell_type": "code",
   "execution_count": 265,
   "metadata": {},
   "outputs": [],
   "source": [
    "synthetic4AnonDf = addSyntheticRows(df_quasi, 4)"
   ]
  },
  {
   "cell_type": "markdown",
   "metadata": {},
   "source": [
    "Add synthetic data when k = 5"
   ]
  },
  {
   "cell_type": "code",
   "execution_count": 266,
   "metadata": {},
   "outputs": [],
   "source": [
    "synthetic5AnonDf = addSyntheticRows(df_quasi, 5)"
   ]
  },
  {
   "cell_type": "markdown",
   "metadata": {},
   "source": [
    "### K-Anonymity \n",
    "- Generalization\n",
    "- Blurring\n",
    "- Suprression \n"
   ]
  },
  {
   "cell_type": "code",
   "execution_count": null,
   "metadata": {},
   "outputs": [],
   "source": []
  },
  {
   "cell_type": "code",
   "execution_count": null,
   "metadata": {},
   "outputs": [],
   "source": []
  },
  {
   "cell_type": "code",
   "execution_count": null,
   "metadata": {},
   "outputs": [],
   "source": []
  },
  {
   "cell_type": "markdown",
   "metadata": {},
   "source": [
    "Compare the number of students who complete and explore the course in the original and in the k-anonymous sets"
   ]
  },
  {
   "cell_type": "code",
   "execution_count": null,
   "metadata": {},
   "outputs": [],
   "source": []
  }
 ],
 "metadata": {
  "kernelspec": {
   "display_name": "Python 3",
   "language": "python",
   "name": "python3"
  },
  "language_info": {
   "codemirror_mode": {
    "name": "ipython",
    "version": 3
   },
   "file_extension": ".py",
   "mimetype": "text/x-python",
   "name": "python",
   "nbconvert_exporter": "python",
   "pygments_lexer": "ipython3",
   "version": "3.6.4"
  }
 },
 "nbformat": 4,
 "nbformat_minor": 2
}
