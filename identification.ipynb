{
 "cells": [
  {
   "cell_type": "markdown",
   "metadata": {},
   "source": [
    "## Re-identification/De-identification \n"
   ]
  },
  {
   "cell_type": "markdown",
   "metadata": {},
   "source": [
    "Read a configuration file containing integers that correspond to column numbers in the\n",
    "dataset. Each integer represents a quasi-identifier. \n"
   ]
  },
  {
   "cell_type": "code",
   "execution_count": null,
   "metadata": {},
   "outputs": [],
   "source": [
    "def read_config(config_file):\n",
    "    with open(config_file) as file:\n",
    "        identifiers = [int(q) for q in file.read().split()]\n",
    "    file.close()\n",
    "    return sorted(identifiers)"
   ]
  },
  {
   "cell_type": "markdown",
   "metadata": {},
   "source": [
    "### Import data"
   ]
  },
  {
   "cell_type": "code",
   "execution_count": null,
   "metadata": {},
   "outputs": [],
   "source": [
    "import pandas as pd"
   ]
  },
  {
   "cell_type": "code",
   "execution_count": null,
   "metadata": {},
   "outputs": [],
   "source": [
    "NA_FILL_VALUE = 0"
   ]
  },
  {
   "cell_type": "code",
   "execution_count": null,
   "metadata": {},
   "outputs": [],
   "source": [
    "df_raw = pd.read_csv(\"mid_sample_set.csv\", dtype='unicode')\n",
    "df_raw.index = df_raw.user_id\n",
    "df_raw = df_raw.drop('user_id', axis = 1)"
   ]
  },
  {
   "cell_type": "code",
   "execution_count": null,
   "metadata": {},
   "outputs": [],
   "source": [
    "# Remove NA columns\n",
    "original_columns = set(df_raw.columns.values)\n",
    "df = df_raw.dropna(axis = 1, how = 'all').fillna(NA_FILL_VALUE)\n",
    "new_columns = set(df.columns.values)\n",
    "print(\"Removed columns\", original_columns - new_columns)"
   ]
  },
  {
   "cell_type": "code",
   "execution_count": null,
   "metadata": {},
   "outputs": [],
   "source": [
    "df.shape"
   ]
  },
  {
   "cell_type": "markdown",
   "metadata": {},
   "source": [
    "### Direct Identifiers\n",
    "- Can uniquely identify an individual and should be removed\n",
    "- This includes ip\n"
   ]
  },
  {
   "cell_type": "code",
   "execution_count": null,
   "metadata": {},
   "outputs": [],
   "source": [
    "df = df.drop('ip', axis = 1)"
   ]
  },
  {
   "cell_type": "markdown",
   "metadata": {},
   "source": [
    "### Quasi-Identifiers\n",
    "- Can uniquely identify an individual when linked to other datasets. \n",
    "- These include: 'course_id', 'user_id', 'countryLabel', 'continent', 'city', 'region', 'subdivision', 'postalCode', 'LoE', 'YoB', 'gender', 'nforum_posts', 'nforum_votes', 'nforum_endorsed', 'nforum_threads', 'nforum_comments', 'nforum_pinned', and 'nforum_events', and are listed as their corresponding column index in the configuration file.\n",
    "- Create a version of the dataset that only contains the quasi-identifiers."
   ]
  },
  {
   "cell_type": "code",
   "execution_count": null,
   "metadata": {},
   "outputs": [],
   "source": [
    "quasi_identifiers = read_config(\"config_file.txt\")\n",
    "df_quasi = df.iloc[:,quasi_identifiers]\n",
    "labels = list(df_quasi.columns.values)\n",
    "# Remove user_id because it's not a quasi-identifier, just a key\n",
    "quasi_identifier_labels = list(set(labels) - set([\"user_id\"]))"
   ]
  },
  {
   "cell_type": "code",
   "execution_count": null,
   "metadata": {},
   "outputs": [],
   "source": [
    "def getAnonCompletionRates(df_quasi, quasi_identifier_labels, k):\n",
    "    k_anonymous = df_quasi.groupby(quasi_identifier_labels)\\\n",
    "                  .size().reset_index(name = 'ct').set_index(quasi_identifier_labels)\n",
    "    k_anonymous = k_anonymous[k_anonymous.ct >= k]\n",
    "    \n",
    "    completedCount = df_quasi.groupby(quasi_identifier_labels + ['completed'])\\\n",
    "                       .size()\\\n",
    "                       .reset_index(name = \"completedCount\")\\\n",
    "                       .set_index(quasi_identifier_labels)\n",
    "    \n",
    "    k_anonymous = k_anonymous.reset_index()\\\n",
    "                  .merge(completedCount[completedCount.completed == 'True'].reset_index(), how = \"left\")\n",
    "        \n",
    "    print(\"Size of %d-anonymous dataset: %d\" % (k, k_anonymous.ct.sum()))\n",
    "    \n",
    "    k_AnonTotalCounts = k_anonymous.groupby('course_id')[\"ct\"].sum()\\\n",
    "                                   .reset_index(name = \"numStudents\")\\\n",
    "                                   .set_index('course_id')\n",
    "    \n",
    "    completionRates = ((k_anonymous.set_index('course_id').completedCount.fillna(0)\n",
    "                        / k_AnonTotalCounts.numStudents).fillna(0) * 100)\\\n",
    "                        .reset_index(name = \"completionRate\")\\\n",
    "                        .sort_values(by = \"completionRate\", ascending = False)\n",
    "    \n",
    "    if len(k_anonymous) == 0: \n",
    "        completionRates.completionRate = 0\n",
    "    \n",
    "    return completionRates "
   ]
  },
  {
   "cell_type": "code",
   "execution_count": null,
   "metadata": {},
   "outputs": [],
   "source": [
    "df.completed.apply(lambda x: 1 if x == 'True' else 0).sum() / len(df)"
   ]
  },
  {
   "cell_type": "code",
   "execution_count": null,
   "metadata": {
    "scrolled": true
   },
   "outputs": [],
   "source": [
    "k=3\n",
    "k_anonymous = df_quasi.groupby(quasi_identifier_labels)\\\n",
    "                  .size().reset_index(name = 'ct').set_index(quasi_identifier_labels)\n",
    "k_anonymous = k_anonymous[k_anonymous.ct >= k]\n",
    "\n",
    "completedCount = df_quasi.join(df.completed).groupby(quasi_identifier_labels + ['completed'])\\\n",
    "                   .size()\\\n",
    "                   .reset_index(name = \"completedCount\")\\\n",
    "                   .set_index(quasi_identifier_labels)\n",
    "            \n",
    "k_anonymous = k_anonymous.reset_index()\\\n",
    "              .merge(completedCount[completedCount.completed == 'True'].reset_index(), how = \"left\")\n",
    "\n",
    "print(\"Size of %d-anonymous dataset: %d\" % (k, k_anonymous.ct.sum()))\n",
    "\n",
    "k_AnonTotalCount = k_anonymous[\"ct\"].sum()\n",
    "completionRate = (k_anonymous.completedCount.fillna(0).sum() / k_AnonTotalCount * 100)\n",
    "\n",
    "print(\"Overall Completion Rate: %.2f%%\" % (completionRate))"
   ]
  },
  {
   "cell_type": "markdown",
   "metadata": {},
   "source": [
    "When k = 3"
   ]
  },
  {
   "cell_type": "code",
   "execution_count": null,
   "metadata": {},
   "outputs": [],
   "source": [
    "completionRate3Anon = getAnonCompletionRates(df, quasi_identifier_labels, 3)"
   ]
  },
  {
   "cell_type": "code",
   "execution_count": null,
   "metadata": {},
   "outputs": [],
   "source": [
    "completionRate3Anon.head()"
   ]
  },
  {
   "cell_type": "markdown",
   "metadata": {},
   "source": [
    "When k = 4"
   ]
  },
  {
   "cell_type": "code",
   "execution_count": null,
   "metadata": {},
   "outputs": [],
   "source": [
    "completionRate4Anon = getAnonCompletionRates(df, quasi_identifier_labels, 4)"
   ]
  },
  {
   "cell_type": "code",
   "execution_count": null,
   "metadata": {},
   "outputs": [],
   "source": [
    "completionRate4Anon.head()"
   ]
  },
  {
   "cell_type": "markdown",
   "metadata": {},
   "source": [
    "When k = 5"
   ]
  },
  {
   "cell_type": "code",
   "execution_count": null,
   "metadata": {},
   "outputs": [],
   "source": [
    "completionRate5Anon = getAnonCompletionRates(df, quasi_identifier_labels, 5)"
   ]
  },
  {
   "cell_type": "code",
   "execution_count": null,
   "metadata": {},
   "outputs": [],
   "source": [
    "completionRate5Anon.head()"
   ]
  },
  {
   "cell_type": "markdown",
   "metadata": {},
   "source": [
    "### Synthetic Records\n",
    "- Make the data k-anonymous\n",
    "- Find the number of synthetic records needed for each case\n",
    "- Compute completion rates and compare to dataset without synthetic records"
   ]
  },
  {
   "cell_type": "markdown",
   "metadata": {},
   "source": [
    "When k = 3"
   ]
  },
  {
   "cell_type": "code",
   "execution_count": null,
   "metadata": {},
   "outputs": [],
   "source": [
    "def addSyntheticRows(df, quasi_identifier_labels, k):\n",
    "    synthetic_k_anon_df = df.reset_index()\n",
    "    not_k_anonymous = synthetic_k_anon_df.groupby(quasi_identifier_labels)\\\n",
    "                      .size().reset_index(name = 'studentCount')\n",
    "    not_k_anonymous = not_k_anonymous[not_k_anonymous.studentCount < k]\n",
    "\n",
    "    for i in range(k):\n",
    "        rowsToAdd = not_k_anonymous[not_k_anonymous.studentCount == i]\n",
    "        if len(rowsToAdd) > 0:\n",
    "            for j in range(k - i):\n",
    "                synthetic_k_anon_df = synthetic_k_anon_df.append(rowsToAdd, ignore_index = True)\n",
    "            \n",
    "    rowsAdded = synthetic_k_anon_df.shape[0] - len(df)\n",
    "    print(\"Size of synthetic dataset: %d\\nSynthetic Rows Added: %d\" % (len(synthetic_k_anon_df), rowsAdded))\n",
    "    # Drop the studentCount column from the dataset we return because df_quasi does not\n",
    "    # have it.  This column is an artifact of when we grouped synthetic_k_anon_df above\n",
    "    synthetic_k_anon_df = synthetic_k_anon_df.drop(\"studentCount\", axis = 1)\n",
    "    return synthetic_k_anon_df\n",
    "    "
   ]
  },
  {
   "cell_type": "markdown",
   "metadata": {},
   "source": [
    "Add synthetic data when k = 3"
   ]
  },
  {
   "cell_type": "code",
   "execution_count": null,
   "metadata": {},
   "outputs": [],
   "source": [
    "synthetic3AnonDf = addSyntheticRows(df, quasi_identifier_labels, 3)"
   ]
  },
  {
   "cell_type": "markdown",
   "metadata": {},
   "source": [
    "Add synthetic data when k = 4"
   ]
  },
  {
   "cell_type": "code",
   "execution_count": null,
   "metadata": {},
   "outputs": [],
   "source": [
    "synthetic4AnonDf = addSyntheticRows(df_quasi, quasi_identifier_labels, 4)"
   ]
  },
  {
   "cell_type": "markdown",
   "metadata": {},
   "source": [
    "Add synthetic data when k = 5"
   ]
  },
  {
   "cell_type": "code",
   "execution_count": null,
   "metadata": {},
   "outputs": [],
   "source": [
    "synthetic5AnonDf = addSyntheticRows(df_quasi, quasi_identifier_labels, 5)"
   ]
  },
  {
   "cell_type": "markdown",
   "metadata": {},
   "source": [
    "### K-Anonymity \n",
    "- Generalization\n",
    "    - YoB, nform_* \n",
    "- Blurring\n",
    "    - Last 3 digits of postal_code\n",
    "- Suprression \n",
    "    - Remaining \n"
   ]
  },
  {
   "cell_type": "code",
   "execution_count": null,
   "metadata": {},
   "outputs": [],
   "source": [
    "df_quasi_copy = df_quasi.copy()"
   ]
  },
  {
   "cell_type": "code",
   "execution_count": null,
   "metadata": {},
   "outputs": [],
   "source": [
    "def blurring(df, col, lenCol):\n",
    "    df_quasi_blur = df\n",
    "    df_quasi_blur.loc[:,col] = df_quasi_blur.loc[:,col].astype(str).str[0:int(lenCol-3)] + \"*\" * 3;\n",
    "    return df_quasi_blur"
   ]
  },
  {
   "cell_type": "code",
   "execution_count": null,
   "metadata": {
    "scrolled": true
   },
   "outputs": [],
   "source": [
    "blurring(df_quasi_copy, \"postalCode\", 5);"
   ]
  },
  {
   "cell_type": "code",
   "execution_count": null,
   "metadata": {},
   "outputs": [],
   "source": [
    "df_quasi_copy"
   ]
  },
  {
   "cell_type": "code",
   "execution_count": null,
   "metadata": {},
   "outputs": [],
   "source": [
    "def generalization(df, colChange, bucketSize, maxVal):\n",
    "    col = colChange\n",
    "    df_quasi_gen = df\n",
    "    binNum = int(maxVal / bucketSize)\n",
    "    bins = [bucketSize*i for i in range(NA_FILL_VALUE-1, binNum)]\n",
    "    df_quasi_gen.loc[:,col] = df_quasi_gen[col].astype(int)\n",
    "    df_quasi_gen.loc[:,col] = pd.cut(df_quasi_gen[col], bins)\n",
    "    return df_quasi_gen"
   ]
  },
  {
   "cell_type": "code",
   "execution_count": null,
   "metadata": {
    "scrolled": true
   },
   "outputs": [],
   "source": [
    "r = generalization(df_quasi_copy, \"YoB\", 10, 2019)\n",
    "r = generalization(r, \"nforum_posts\", 10, 470)\n",
    "r = generalization(r, \"nforum_votes\", 10, 640)\n",
    "r = generalization(r, \"nforum_endorsed\", 10, 50)\n",
    "r = generalization(r, \"nforum_threads\", 10, 150)\n",
    "r = generalization(r, \"nforum_comments\", 10, 450)\n",
    "r = generalization(r, \"nforum_pinned\", 10, 20)"
   ]
  },
  {
   "cell_type": "code",
   "execution_count": null,
   "metadata": {},
   "outputs": [],
   "source": [
    "r;"
   ]
  },
  {
   "cell_type": "code",
   "execution_count": null,
   "metadata": {},
   "outputs": [],
   "source": [
    "completionRate4Anon_GenBlurSuppress = getAnonCompletionRates(df_quasi, quasi_identifier_labels, 4)"
   ]
  },
  {
   "cell_type": "code",
   "execution_count": null,
   "metadata": {},
   "outputs": [],
   "source": [
    "completionRate5Anon_GenBlurSuppress = getAnonCompletionRates(df_quasi, quasi_identifier_labels, 5) "
   ]
  }
 ],
 "metadata": {
  "kernelspec": {
   "display_name": "Python 3",
   "language": "python",
   "name": "python3"
  },
  "language_info": {
   "codemirror_mode": {
    "name": "ipython",
    "version": 3
   },
   "file_extension": ".py",
   "mimetype": "text/x-python",
   "name": "python",
   "nbconvert_exporter": "python",
   "pygments_lexer": "ipython3",
   "version": "3.6.2"
  }
 },
 "nbformat": 4,
 "nbformat_minor": 2
}
