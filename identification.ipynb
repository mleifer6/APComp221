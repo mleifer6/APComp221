{
 "cells": [
  {
   "cell_type": "markdown",
   "metadata": {},
   "source": [
    "## Re-identification/De-identification \n"
   ]
  },
  {
   "cell_type": "markdown",
   "metadata": {},
   "source": [
    "Read a configuration file containing integers that correspond to column numbers in the\n",
    "dataset. Each integer represents a quasi-identifier. \n"
   ]
  },
  {
   "cell_type": "code",
   "execution_count": 1,
   "metadata": {},
   "outputs": [],
   "source": [
    "def read_config(config_file):\n",
    "    with open(config_file) as file:\n",
    "        identifiers = [int(q) for q in file.read().split()]\n",
    "    file.close()\n",
    "    return sorted(identifiers)"
   ]
  },
  {
   "cell_type": "markdown",
   "metadata": {},
   "source": [
    "### Import data"
   ]
  },
  {
   "cell_type": "code",
   "execution_count": 2,
   "metadata": {},
   "outputs": [],
   "source": [
    "import pandas as pd"
   ]
  },
  {
   "cell_type": "code",
   "execution_count": 3,
   "metadata": {},
   "outputs": [],
   "source": [
    "df_raw = pd.read_csv(\"mid_sample_set.csv\", dtype='unicode')\n",
    "df_raw.index = df_raw.user_id\n",
    "df_raw = df_raw.drop('user_id', axis = 1)"
   ]
  },
  {
   "cell_type": "code",
   "execution_count": 4,
   "metadata": {},
   "outputs": [
    {
     "name": "stdout",
     "output_type": "stream",
     "text": [
      "Removed columns {'forumRoles_isCommunityTA', 'roles_isCCX', 'roles_isLibrary'}\n"
     ]
    }
   ],
   "source": [
    "# Remove NA columns\n",
    "original_columns = set(df_raw.columns.values)\n",
    "df = df_raw.dropna(axis = 1, how = 'all').fillna(-9)\n",
    "new_columns = set(df.columns.values)\n",
    "print(\"Removed columns\", original_columns - new_columns)"
   ]
  },
  {
   "cell_type": "code",
   "execution_count": 5,
   "metadata": {},
   "outputs": [
    {
     "data": {
      "text/plain": [
       "(199999, 87)"
      ]
     },
     "execution_count": 5,
     "metadata": {},
     "output_type": "execute_result"
    }
   ],
   "source": [
    "df.shape"
   ]
  },
  {
   "cell_type": "markdown",
   "metadata": {},
   "source": [
    "### Direct Identifiers\n",
    "- Can uniquely identify an individual and should be removed"
   ]
  },
  {
   "cell_type": "markdown",
   "metadata": {},
   "source": [
    "### Quasi-Identifiers\n",
    "- Can uniquely identify an individual when linked to other datasets. \n",
    "- These include: 'course_id', 'user_id', 'countryLabel', 'continent', 'city', 'region', 'subdivision', 'postalCode', 'LoE', 'YoB', 'gender', 'nforum_posts', 'nforum_votes', 'nforum_endorsed', 'nforum_threads', 'nforum_comments', 'nforum_pinned', and 'nforum_events', and are listed as their corresponding column index in the configuration file.\n",
    "- Create a version of the dataset that only contains the quasi-identifiers."
   ]
  },
  {
   "cell_type": "code",
   "execution_count": 6,
   "metadata": {},
   "outputs": [],
   "source": [
    "quasi_identifiers = read_config(\"config_file.txt\")\n",
    "df_quasi = df.iloc[:,quasi_identifiers]\n",
    "labels = list(df_quasi.columns.values)\n",
    "# Remove user_id because it's not a quasi-identifier, just a key\n",
    "quasi_identifier_labels = list(set(labels) - set([\"user_id\"]))"
   ]
  },
  {
   "cell_type": "markdown",
   "metadata": {},
   "source": [
    "### K-Anonymity\n",
    "- What remains of the dataset if you make it k-anonymous using suppression\n",
    "- What is the completion rate for each class at each of these levels."
   ]
  },
  {
   "cell_type": "code",
   "execution_count": 7,
   "metadata": {},
   "outputs": [],
   "source": [
    "def getAnonCompletionRates(df, quasi_identifier_labels, k):\n",
    "    if 'course_id' not in quasi_identifier_labels:\n",
    "        quasi_identifier_labels.append('course_id')\n",
    "    \n",
    "    k_anonymous = df.groupby(quasi_identifier_labels)\\\n",
    "                  .size().reset_index(name = 'ct').set_index(quasi_identifier_labels)\n",
    "    k_anonymous = k_anonymous[k_anonymous.ct >= k]\n",
    "    \n",
    "    completedCount = df.groupby(quasi_identifier_labels + ['completed'])\\\n",
    "                       .size()\\\n",
    "                       .reset_index(name = \"completedCount\")\\\n",
    "                       .set_index(quasi_identifier_labels)\n",
    "    \n",
    "    k_anonymous = k_anonymous.reset_index()\\\n",
    "                  .merge(completedCount[completedCount.completed == 'True'].reset_index(), how = \"left\")\n",
    "        \n",
    "    print(\"Size of %d-anonymous dataset: %d\" % (k, k_anonymous.ct.sum()))\n",
    "    \n",
    "    k_AnonTotalCounts = k_anonymous.groupby('course_id')[\"ct\"].sum()\\\n",
    "                                   .reset_index(name = \"numStudents\")\\\n",
    "                                   .set_index('course_id')\n",
    "    \n",
    "    completionRates = ((k_anonymous.set_index('course_id').completedCount.fillna(0)\n",
    "                        / k_AnonTotalCounts.numStudents).fillna(0) * 100)\\\n",
    "                        .reset_index(name = \"completionRate\")\\\n",
    "                        .sort_values(by = \"completionRate\", ascending = False)\n",
    "    \n",
    "    if len(k_anonymous) == 0: \n",
    "        completionRates.completionRate = 0\n",
    "    \n",
    "    return completionRates "
   ]
  },
  {
   "cell_type": "markdown",
   "metadata": {},
   "source": [
    "When k = 3"
   ]
  },
  {
   "cell_type": "code",
   "execution_count": 8,
   "metadata": {},
   "outputs": [
    {
     "name": "stdout",
     "output_type": "stream",
     "text": [
      "Size of 3-anonymous dataset: 27889\n"
     ]
    }
   ],
   "source": [
    "completionRate3Anon = getAnonCompletionRates(df, quasi_identifier_labels, 3)"
   ]
  },
  {
   "cell_type": "code",
   "execution_count": 9,
   "metadata": {},
   "outputs": [
    {
     "data": {
      "text/html": [
       "<div>\n",
       "<style scoped>\n",
       "    .dataframe tbody tr th:only-of-type {\n",
       "        vertical-align: middle;\n",
       "    }\n",
       "\n",
       "    .dataframe tbody tr th {\n",
       "        vertical-align: top;\n",
       "    }\n",
       "\n",
       "    .dataframe thead th {\n",
       "        text-align: right;\n",
       "    }\n",
       "</style>\n",
       "<table border=\"1\" class=\"dataframe\">\n",
       "  <thead>\n",
       "    <tr style=\"text-align: right;\">\n",
       "      <th></th>\n",
       "      <th>course_id</th>\n",
       "      <th>completionRate</th>\n",
       "    </tr>\n",
       "  </thead>\n",
       "  <tbody>\n",
       "    <tr>\n",
       "      <th>2668</th>\n",
       "      <td>HarvardX/MCB80.2x/3T2014</td>\n",
       "      <td>1.388889</td>\n",
       "    </tr>\n",
       "    <tr>\n",
       "      <th>2342</th>\n",
       "      <td>HarvardX/HKS101A/2015T3</td>\n",
       "      <td>0.202020</td>\n",
       "    </tr>\n",
       "    <tr>\n",
       "      <th>502</th>\n",
       "      <td>HarvardX/CS50x/2014_T1</td>\n",
       "      <td>0.026410</td>\n",
       "    </tr>\n",
       "    <tr>\n",
       "      <th>1049</th>\n",
       "      <td>HarvardX/CS50x/2014_T1</td>\n",
       "      <td>0.013205</td>\n",
       "    </tr>\n",
       "    <tr>\n",
       "      <th>1426</th>\n",
       "      <td>HarvardX/CS50x/2014_T1</td>\n",
       "      <td>0.013205</td>\n",
       "    </tr>\n",
       "  </tbody>\n",
       "</table>\n",
       "</div>"
      ],
      "text/plain": [
       "                     course_id  completionRate\n",
       "2668  HarvardX/MCB80.2x/3T2014        1.388889\n",
       "2342   HarvardX/HKS101A/2015T3        0.202020\n",
       "502     HarvardX/CS50x/2014_T1        0.026410\n",
       "1049    HarvardX/CS50x/2014_T1        0.013205\n",
       "1426    HarvardX/CS50x/2014_T1        0.013205"
      ]
     },
     "execution_count": 9,
     "metadata": {},
     "output_type": "execute_result"
    }
   ],
   "source": [
    "completionRate3Anon.head()"
   ]
  },
  {
   "cell_type": "markdown",
   "metadata": {},
   "source": [
    "When k = 4"
   ]
  },
  {
   "cell_type": "code",
   "execution_count": 10,
   "metadata": {},
   "outputs": [
    {
     "name": "stdout",
     "output_type": "stream",
     "text": [
      "Size of 4-anonymous dataset: 22522\n"
     ]
    }
   ],
   "source": [
    "completionRate4Anon = getAnonCompletionRates(df, quasi_identifier_labels, 4)"
   ]
  },
  {
   "cell_type": "code",
   "execution_count": 11,
   "metadata": {},
   "outputs": [
    {
     "data": {
      "text/html": [
       "<div>\n",
       "<style scoped>\n",
       "    .dataframe tbody tr th:only-of-type {\n",
       "        vertical-align: middle;\n",
       "    }\n",
       "\n",
       "    .dataframe tbody tr th {\n",
       "        vertical-align: top;\n",
       "    }\n",
       "\n",
       "    .dataframe thead th {\n",
       "        text-align: right;\n",
       "    }\n",
       "</style>\n",
       "<table border=\"1\" class=\"dataframe\">\n",
       "  <thead>\n",
       "    <tr style=\"text-align: right;\">\n",
       "      <th></th>\n",
       "      <th>course_id</th>\n",
       "      <th>completionRate</th>\n",
       "    </tr>\n",
       "  </thead>\n",
       "  <tbody>\n",
       "    <tr>\n",
       "      <th>1388</th>\n",
       "      <td>HarvardX/HKS101A/2015T3</td>\n",
       "      <td>0.228311</td>\n",
       "    </tr>\n",
       "    <tr>\n",
       "      <th>315</th>\n",
       "      <td>HarvardX/CS50x/2014_T1</td>\n",
       "      <td>0.034112</td>\n",
       "    </tr>\n",
       "    <tr>\n",
       "      <th>333</th>\n",
       "      <td>HarvardX/CS50x/2014_T1</td>\n",
       "      <td>0.017056</td>\n",
       "    </tr>\n",
       "    <tr>\n",
       "      <th>109</th>\n",
       "      <td>HarvardX/CS50x/2014_T1</td>\n",
       "      <td>0.017056</td>\n",
       "    </tr>\n",
       "    <tr>\n",
       "      <th>375</th>\n",
       "      <td>HarvardX/CS50x/2014_T1</td>\n",
       "      <td>0.017056</td>\n",
       "    </tr>\n",
       "  </tbody>\n",
       "</table>\n",
       "</div>"
      ],
      "text/plain": [
       "                    course_id  completionRate\n",
       "1388  HarvardX/HKS101A/2015T3        0.228311\n",
       "315    HarvardX/CS50x/2014_T1        0.034112\n",
       "333    HarvardX/CS50x/2014_T1        0.017056\n",
       "109    HarvardX/CS50x/2014_T1        0.017056\n",
       "375    HarvardX/CS50x/2014_T1        0.017056"
      ]
     },
     "execution_count": 11,
     "metadata": {},
     "output_type": "execute_result"
    }
   ],
   "source": [
    "completionRate4Anon.head()"
   ]
  },
  {
   "cell_type": "markdown",
   "metadata": {},
   "source": [
    "When k = 5"
   ]
  },
  {
   "cell_type": "code",
   "execution_count": 12,
   "metadata": {},
   "outputs": [
    {
     "name": "stdout",
     "output_type": "stream",
     "text": [
      "Size of 5-anonymous dataset: 19094\n"
     ]
    }
   ],
   "source": [
    "completionRate5Anon = getAnonCompletionRates(df, quasi_identifier_labels, 5)"
   ]
  },
  {
   "cell_type": "code",
   "execution_count": 13,
   "metadata": {},
   "outputs": [
    {
     "data": {
      "text/html": [
       "<div>\n",
       "<style scoped>\n",
       "    .dataframe tbody tr th:only-of-type {\n",
       "        vertical-align: middle;\n",
       "    }\n",
       "\n",
       "    .dataframe tbody tr th {\n",
       "        vertical-align: top;\n",
       "    }\n",
       "\n",
       "    .dataframe thead th {\n",
       "        text-align: right;\n",
       "    }\n",
       "</style>\n",
       "<table border=\"1\" class=\"dataframe\">\n",
       "  <thead>\n",
       "    <tr style=\"text-align: right;\">\n",
       "      <th></th>\n",
       "      <th>course_id</th>\n",
       "      <th>completionRate</th>\n",
       "    </tr>\n",
       "  </thead>\n",
       "  <tbody>\n",
       "    <tr>\n",
       "      <th>935</th>\n",
       "      <td>HarvardX/HKS101A/2015T3</td>\n",
       "      <td>0.261780</td>\n",
       "    </tr>\n",
       "    <tr>\n",
       "      <th>229</th>\n",
       "      <td>HarvardX/CS50x/2014_T1</td>\n",
       "      <td>0.041675</td>\n",
       "    </tr>\n",
       "    <tr>\n",
       "      <th>265</th>\n",
       "      <td>HarvardX/CS50x/2014_T1</td>\n",
       "      <td>0.020838</td>\n",
       "    </tr>\n",
       "    <tr>\n",
       "      <th>242</th>\n",
       "      <td>HarvardX/CS50x/2014_T1</td>\n",
       "      <td>0.020838</td>\n",
       "    </tr>\n",
       "    <tr>\n",
       "      <th>488</th>\n",
       "      <td>HarvardX/CS50x/2014_T1</td>\n",
       "      <td>0.020838</td>\n",
       "    </tr>\n",
       "  </tbody>\n",
       "</table>\n",
       "</div>"
      ],
      "text/plain": [
       "                   course_id  completionRate\n",
       "935  HarvardX/HKS101A/2015T3        0.261780\n",
       "229   HarvardX/CS50x/2014_T1        0.041675\n",
       "265   HarvardX/CS50x/2014_T1        0.020838\n",
       "242   HarvardX/CS50x/2014_T1        0.020838\n",
       "488   HarvardX/CS50x/2014_T1        0.020838"
      ]
     },
     "execution_count": 13,
     "metadata": {},
     "output_type": "execute_result"
    }
   ],
   "source": [
    "completionRate5Anon.head()"
   ]
  },
  {
   "cell_type": "markdown",
   "metadata": {},
   "source": [
    "### Synthetic Records\n",
    "- Make the data k-anonymous\n",
    "- Find the number of synthetic records needed for each case\n",
    "- Compute completion rates and compare to dataset without synthetic records"
   ]
  },
  {
   "cell_type": "markdown",
   "metadata": {},
   "source": [
    "When k = 3"
   ]
  },
  {
   "cell_type": "code",
   "execution_count": 14,
   "metadata": {},
   "outputs": [],
   "source": [
    "def addSyntheticRows(df, quasi_identifier_labels, k):\n",
    "    synthetic_k_anon_df = df.reset_index()\n",
    "    not_k_anonymous = synthetic_k_anon_df.groupby(quasi_identifier_labels)\\\n",
    "                      .size().reset_index(name = 'studentCount')\n",
    "    not_k_anonymous = not_k_anonymous[not_k_anonymous.studentCount < k]\n",
    "\n",
    "    for i in range(k):\n",
    "        rowsToAdd = not_k_anonymous[not_k_anonymous.studentCount == i]\n",
    "        if len(rowsToAdd) > 0:\n",
    "            for j in range(k - i):\n",
    "                synthetic_k_anon_df = synthetic_k_anon_df.append(rowsToAdd, ignore_index = True, sort = False)\n",
    "            \n",
    "    rowsAdded = synthetic_k_anon_df.shape[0] - len(df)\n",
    "    print(\"Size of synthetic dataset: %d\\nSynthetic Rows Added: %d\" % (len(synthetic_k_anon_df), rowsAdded))\n",
    "    # Drop the studentCount column from the dataset we return because df_quasi does not\n",
    "    # have it.  This column is an artifact of when we grouped synthetic_k_anon_df above\n",
    "    synthetic_k_anon_df = synthetic_k_anon_df.drop(\"studentCount\", axis = 1)\n",
    "    return synthetic_k_anon_df\n",
    "    "
   ]
  },
  {
   "cell_type": "markdown",
   "metadata": {},
   "source": [
    "Add synthetic data when k = 3"
   ]
  },
  {
   "cell_type": "code",
   "execution_count": 15,
   "metadata": {},
   "outputs": [
    {
     "name": "stdout",
     "output_type": "stream",
     "text": [
      "Size of synthetic dataset: 524677\n",
      "Synthetic Rows Added: 324678\n"
     ]
    }
   ],
   "source": [
    "synthetic3AnonDf = addSyntheticRows(df, quasi_identifier_labels, 3)"
   ]
  },
  {
   "cell_type": "markdown",
   "metadata": {},
   "source": [
    "Add synthetic data when k = 4"
   ]
  },
  {
   "cell_type": "code",
   "execution_count": 16,
   "metadata": {},
   "outputs": [
    {
     "name": "stdout",
     "output_type": "stream",
     "text": [
      "Size of synthetic dataset: 692062\n",
      "Synthetic Rows Added: 492063\n"
     ]
    }
   ],
   "source": [
    "synthetic4AnonDf = addSyntheticRows(df_quasi, quasi_identifier_labels, 4)"
   ]
  },
  {
   "cell_type": "markdown",
   "metadata": {},
   "source": [
    "Add synthetic data when k = 5"
   ]
  },
  {
   "cell_type": "code",
   "execution_count": 17,
   "metadata": {},
   "outputs": [
    {
     "name": "stdout",
     "output_type": "stream",
     "text": [
      "Size of synthetic dataset: 860304\n",
      "Synthetic Rows Added: 660305\n"
     ]
    }
   ],
   "source": [
    "synthetic5AnonDf = addSyntheticRows(df_quasi, quasi_identifier_labels, 5)"
   ]
  },
  {
   "cell_type": "markdown",
   "metadata": {},
   "source": [
    "### K-Anonymity \n",
    "- Generalization\n",
    "- Blurring\n",
    "- Suprression \n"
   ]
  },
  {
   "cell_type": "code",
   "execution_count": null,
   "metadata": {},
   "outputs": [],
   "source": []
  },
  {
   "cell_type": "markdown",
   "metadata": {},
   "source": [
    "Compare the number of students who complete and explore the course in the original and in the k-anonymous sets"
   ]
  },
  {
   "cell_type": "code",
   "execution_count": null,
   "metadata": {},
   "outputs": [],
   "source": []
  }
 ],
 "metadata": {
  "kernelspec": {
   "display_name": "Python 3",
   "language": "python",
   "name": "python3"
  },
  "language_info": {
   "codemirror_mode": {
    "name": "ipython",
    "version": 3
   },
   "file_extension": ".py",
   "mimetype": "text/x-python",
   "name": "python",
   "nbconvert_exporter": "python",
   "pygments_lexer": "ipython3",
   "version": "3.6.2"
  }
 },
 "nbformat": 4,
 "nbformat_minor": 2
}
