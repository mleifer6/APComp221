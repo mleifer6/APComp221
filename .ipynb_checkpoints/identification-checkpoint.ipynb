{
 "cells": [
  {
   "cell_type": "markdown",
   "metadata": {},
   "source": [
    "## Re-identification/De-identification \n"
   ]
  },
  {
   "cell_type": "markdown",
   "metadata": {},
   "source": [
    "# Question 1\n",
    "### In class, we looked at how we could identify anyone in the United States based on their birthday, age, gender, and zip code, on the assumption that all of these features were uniformly distributed. Using legal means, find data on the actual distribution of some of these features. \n",
    "\n",
    "- According to the Henry J Kaiser Family Foundation, in 2017 a majority of the US population was between the ages of 0-18 and 35-54 years old. This trend is also consistent at the state level. [https://www.kff.org/other/state-indicator/distribution-by-age/?currentTimeframe=0&sortModel=%7B%22colId%22:%22Location%22,%22sort%22:%22asc%22%7D]\n",
    "- According to the Henry J Kaiser Family Foundation, in 2017 a majority 51% of the population was female and 49% male.  This trend is also consistent at the state level. https://www.kff.org/other/state-indicator/distribution-by-gender/?currentTimeframe=0&sortModel=%7B%22colId%22:%22Location%22,%22sort%22:%22asc%22%7D\n",
    "- According to FiveThirtyEight, from 2003-2014, the most common birthdays were in September (~12,000 births/day), and the least common birthdays, were around Christmas and New Years (~6,000 births/day). [https://github.com/fivethirtyeight/data/blob/master/births/US_births_2000-2014_SSA.csv] \n",
    "- There are over 42,000 zip codes in the US. There are 100 codes that have fewer than 10 people per zip code. http://localistica.com/usa/zipcodes/least-populated-zipcodes/, in 2016 there were 17 zip codes so sparsley populated that the first three digits of the code could uniquely identify an individual. According to HIPAA regulations, if the first three digits of a zip code correlate to a population less than 20,000, it is a quasi-identifier. The average population per zip code in 2019 is 7,844 people, and the average number of changes to a zip code per year is 4,707.6 people [https://www.zip-codes.com/zip-code-statistics.asp] \n",
    "\n",
    "### What does this mean to the ability to identify using just these bits of data?\n",
    "- These identifiers are not uniformly distributed. The ability to identify individuals is easiest for data entries that contain uncommon birthdays and ages, and sparsely populated zip codes. \n"
   ]
  },
  {
   "cell_type": "code",
   "execution_count": 1,
   "metadata": {},
   "outputs": [],
   "source": [
    "\"\"\" \n",
    "Read a configuration file containing column labels in csv. Strings are quasi-identifiers. \n",
    "\"\"\"\n",
    "def read_config(config_file):\n",
    "    with open(config_file) as file:\n",
    "        identifiers = [(q) for q in file.read().split()]\n",
    "    file.close()\n",
    "    return sorted(identifiers)"
   ]
  },
  {
   "cell_type": "markdown",
   "metadata": {},
   "source": [
    "### Import data"
   ]
  },
  {
   "cell_type": "code",
   "execution_count": 2,
   "metadata": {},
   "outputs": [],
   "source": [
    "import pandas as pd"
   ]
  },
  {
   "cell_type": "markdown",
   "metadata": {},
   "source": [
    "Many entries contain NaN where the user did not enter information. Fill these values with 0 in order to filter them during analysis. "
   ]
  },
  {
   "cell_type": "code",
   "execution_count": 3,
   "metadata": {},
   "outputs": [],
   "source": [
    "NA_FILL_VALUE = 0"
   ]
  },
  {
   "cell_type": "code",
   "execution_count": 4,
   "metadata": {},
   "outputs": [],
   "source": [
    "df_raw = pd.read_csv(\"mid_sample_set.csv\", dtype='unicode')\n",
    "# Set user id as index\n",
    "df_raw.index = df_raw.user_id\n",
    "df_raw = df_raw.drop('user_id', axis = 1)"
   ]
  },
  {
   "cell_type": "code",
   "execution_count": 5,
   "metadata": {},
   "outputs": [
    {
     "name": "stdout",
     "output_type": "stream",
     "text": [
      "Removed columns {'roles_isLibrary', 'roles_isCCX', 'forumRoles_isCommunityTA'}\n"
     ]
    }
   ],
   "source": [
    "# Remove NA columns\n",
    "original_columns = set(df_raw.columns.values)\n",
    "df = df_raw.dropna(axis = 1, how = 'all').fillna(NA_FILL_VALUE)\n",
    "new_columns = set(df.columns.values)\n",
    "print(\"Removed columns\", original_columns - new_columns)"
   ]
  },
  {
   "cell_type": "code",
   "execution_count": 6,
   "metadata": {},
   "outputs": [
    {
     "data": {
      "text/plain": [
       "(199999, 87)"
      ]
     },
     "execution_count": 6,
     "metadata": {},
     "output_type": "execute_result"
    }
   ],
   "source": [
    "df.shape"
   ]
  },
  {
   "cell_type": "markdown",
   "metadata": {},
   "source": [
    "Upon loading the dataset, there are 200,000 entries (users) and 87 fields (identifiers) for each row entry."
   ]
  },
  {
   "cell_type": "markdown",
   "metadata": {},
   "source": [
    "### Direct Identifiers\n",
    "- Can uniquely identify an individual and should be removed\n",
    "- This includes ip\n"
   ]
  },
  {
   "cell_type": "code",
   "execution_count": 7,
   "metadata": {},
   "outputs": [],
   "source": [
    "df = df.drop('ip', axis = 1)"
   ]
  },
  {
   "cell_type": "markdown",
   "metadata": {},
   "source": [
    "### Quasi-Identifiers\n",
    "- Can uniquely identify an individual when linked to other datasets. \n",
    "- These include: 'user_id', 'countryLabel', 'continent', 'city', 'region', 'subdivision', 'postalCode', 'LoE', 'YoB', 'gender', 'nforum_posts', 'nforum_votes', 'nforum_endorsed', 'nforum_threads', 'nforum_comments', 'nforum_pinned', and 'nforum_events', and are listed as their corresponding column index in the configuration file.\n",
    "- Redundant quasi-identifiers are not included \n",
    "- course_id was dropped \n",
    "- Create a version of the dataset that only contains the quasi-identifiers.\n",
    "- <b>Categorical Quasi-Identifiers</b>: 'countryLabel', 'continent', 'city', 'region', 'subdivision', 'postalCode', 'LoE', 'gender'\n",
    "- <b>Continuous Quasi-Identifiers</b>: 'YoB', 'nforum_posts', 'nforum_votes', 'nforum_endorsed', 'nforum_threads', 'nforum_comments', 'nforum_pinned', and 'nforum_events'"
   ]
  },
  {
   "cell_type": "markdown",
   "metadata": {},
   "source": [
    "# Question 2\n",
    "### Create a version of the dataset that only contains the quasi-identifiers."
   ]
  },
  {
   "cell_type": "code",
   "execution_count": 8,
   "metadata": {},
   "outputs": [],
   "source": [
    "quasi_identifiers = read_config(\"config_file.txt\")\n",
    "# Remove user_id because it's not a quasi-identifier, just a key, and course_id because Waldo said to drop it\n",
    "quasi_identifier_labels = list(set(quasi_identifiers) - set([\"user_id\", \"course_id\"]))\n",
    "df_quasi = df[quasi_identifier_labels]\n"
   ]
  },
  {
   "cell_type": "code",
   "execution_count": 9,
   "metadata": {},
   "outputs": [],
   "source": [
    "# df filtered by quasi-identifiers\n",
    "df_quasi;"
   ]
  },
  {
   "cell_type": "markdown",
   "metadata": {},
   "source": [
    "# Question 3\n",
    "### What happens to the size and completion rate of the dataset when made to be 3-, 4-, and 5-anonymous?"
   ]
  },
  {
   "cell_type": "code",
   "execution_count": 41,
   "metadata": {},
   "outputs": [],
   "source": [
    "def getKAnonFeatureRate(df_quasi, df_feature, quasi_identifier_labels, k, featurePrintableName = \"Completion\", \n",
    "                        techniquesUsed = \"suppression\"):\n",
    "    \"\"\" \n",
    "    Suppresses individuals who are uniquely identifiable among fewer than k-1 other individuals. \n",
    "    Calculates the percentage of students who complete the course. Inputs are the dataframe,\n",
    "    quasi-identifiers and level of k-anonmity. Returns data set without non \n",
    "    k-anonymous rows, an additional column for class completion rates,\n",
    "    and the updated data set size.\n",
    "\n",
    "    df_quasi : A DataFrame of Quasi-Identifiers\n",
    "    df_feature : A Boolean Series derived from a DataFrame\n",
    "    quasi_identifier_labels: A list of the quasi-identifiers\n",
    "    k : k in k-anonymity (Int)\n",
    "    featurePrintableName: featurePrintableName\n",
    "\n",
    "    \"\"\"\n",
    "    \n",
    "    k_anonymous = df_quasi.groupby(quasi_identifier_labels)\\\n",
    "                  .size().reset_index(name = 'ct').set_index(quasi_identifier_labels)\n",
    "    k_anonymous = k_anonymous[k_anonymous.ct >= k]\n",
    "\n",
    "    feature = df_feature.name\n",
    "    featureCount = \"%sCount\" % df_feature.name\n",
    "    \n",
    "    completedCount = df_quasi.join(df_feature).groupby(quasi_identifier_labels + [feature])\\\n",
    "                       .size()\\\n",
    "                       .reset_index(name = featureCount)\\\n",
    "                       .set_index(quasi_identifier_labels)\n",
    "\n",
    "    k_anonymous = k_anonymous.reset_index()\\\n",
    "                  .merge(completedCount[completedCount[feature] == 'True'].reset_index(), how = \"left\")\n",
    "\n",
    "    print(\"Size of %d-anonymous dataset after %s: %d\" % (k, techniquesUsed, k_anonymous.ct.sum()))\n",
    "\n",
    "    k_AnonTotalCount = k_anonymous[\"ct\"].sum()\n",
    "    completionRate = (k_anonymous[featureCount].fillna(0).sum() / k_AnonTotalCount * 100)\n",
    "\n",
    "    print(\"%d-anonymous %s Rate: %.2f%%\" % (k, featurePrintableName, completionRate))\n",
    "    \n",
    "    # There are no records that are k-anonymous, so set the completion rate to 0\n",
    "    if len(k_anonymous) == 0: \n",
    "        completionRate = 0\n",
    "    \n",
    "    return completionRate "
   ]
  },
  {
   "cell_type": "code",
   "execution_count": 11,
   "metadata": {},
   "outputs": [
    {
     "name": "stdout",
     "output_type": "stream",
     "text": [
      "The unanonymized completion rate was: 2.78%\n"
     ]
    }
   ],
   "source": [
    "overallCompletionRate = df.completed.apply(lambda x: 1 if x == 'True' else 0).sum() / float(len(df))\n",
    "print(\"The unanonymized completion rate was: %.2f%%\" % (overallCompletionRate * 100))"
   ]
  },
  {
   "cell_type": "code",
   "execution_count": 12,
   "metadata": {},
   "outputs": [
    {
     "name": "stdout",
     "output_type": "stream",
     "text": [
      "Size of 3-anonymous dataset after suppression: 58163\n",
      "3-anonymous Completion Rate: 1.55%\n"
     ]
    }
   ],
   "source": [
    "completionRate3Anon = getKAnonFeatureRate(df_quasi, df.completed, quasi_identifier_labels, 3)"
   ]
  },
  {
   "cell_type": "code",
   "execution_count": 13,
   "metadata": {},
   "outputs": [
    {
     "name": "stdout",
     "output_type": "stream",
     "text": [
      "Size of 4-anonymous dataset after suppression: 48890\n",
      "4-anonymous Completion Rate: 1.27%\n"
     ]
    }
   ],
   "source": [
    "completionRate4Anon = getKAnonFeatureRate(df_quasi, df.completed, quasi_identifier_labels, 4)"
   ]
  },
  {
   "cell_type": "code",
   "execution_count": 14,
   "metadata": {},
   "outputs": [
    {
     "name": "stdout",
     "output_type": "stream",
     "text": [
      "Size of 5-anonymous dataset after suppression: 43586\n",
      "5-anonymous Completion Rate: 1.19%\n"
     ]
    }
   ],
   "source": [
    "completionRate5Anon = getKAnonFeatureRate(df_quasi, df.completed, quasi_identifier_labels, 5)"
   ]
  },
  {
   "cell_type": "markdown",
   "metadata": {},
   "source": [
    "# Question 4\n",
    "### Synthetic Records\n",
    "- Make the data k-anonymous\n",
    "- Find the number of synthetic records needed for each case\n",
    "- Compute completion rates and compare to dataset without synthetic records"
   ]
  },
  {
   "cell_type": "markdown",
   "metadata": {},
   "source": [
    "When k = 3"
   ]
  },
  {
   "cell_type": "code",
   "execution_count": 15,
   "metadata": {},
   "outputs": [],
   "source": [
    "\"\"\"\n",
    "Adds artifical rows of data in order to acheive desired k-anonmity level. \n",
    "Each synthetic row is a duplicate of row data that is not yet k-anonymous.\n",
    "Returns data set with artifical rows. \n",
    "\"\"\"\n",
    "def addSyntheticRows(df_quasi, quasi_identifier_labels, k):\n",
    "    print(\"Size of original dataset: %d\" % len(df_quasi))\n",
    "\n",
    "    # create a new copy of the dataset that's passed in so that the original isn't modified because\n",
    "    # DataFrames are passed by reference, not value\n",
    "    synthetic_k_anon_df = df_quasi.copy() \n",
    "    \n",
    "    # Create groupings based on quasi identifiers and count number of students in each group\n",
    "    not_k_anonymous = synthetic_k_anon_df.groupby(quasi_identifier_labels)\\\n",
    "                      .size().reset_index(name = 'studentCount')\n",
    "        \n",
    "    # Assign groupings where studentCount is less than desired level for k-anonymity \n",
    "    not_k_anonymous = not_k_anonymous[not_k_anonymous.studentCount < k]\n",
    "\n",
    "    # Duplicate rows where groupings of quasi-identifiers are not k-anonymous\n",
    "    for i in range(k):\n",
    "        nonKAnonymousRows = not_k_anonymous[not_k_anonymous.studentCount == i]\n",
    "        if len(nonKAnonymousRows) > 0:\n",
    "            for j in range(k - i):\n",
    "                synthetic_k_anon_df = synthetic_k_anon_df.append(nonKAnonymousRows, ignore_index = True, sort = False)\n",
    "            \n",
    "    # Calculate difference between dataset and k-anonymized dataset with synthetic rows\n",
    "    numRowsAdded = synthetic_k_anon_df.shape[0] - len(df_quasi)\n",
    "    print(\"Size of synthetic dataset: %d\\nSynthetic Rows Added: %d\" % (len(synthetic_k_anon_df), numRowsAdded))\n",
    "    \n",
    "    # Drop the studentCount column from the dataset we return because df_quasi does not\n",
    "    # have it.  This column is an artifact of when we grouped synthetic_k_anon_df above\n",
    "    synthetic_k_anon_df = synthetic_k_anon_df.drop(\"studentCount\", axis = 1)\n",
    "    return synthetic_k_anon_df    "
   ]
  },
  {
   "cell_type": "markdown",
   "metadata": {},
   "source": [
    "Add synthetic data when k = 3"
   ]
  },
  {
   "cell_type": "code",
   "execution_count": 16,
   "metadata": {},
   "outputs": [
    {
     "name": "stdout",
     "output_type": "stream",
     "text": [
      "Size of original dataset: 199999\n",
      "Size of synthetic dataset: 453071\n",
      "Synthetic Rows Added: 253072\n"
     ]
    }
   ],
   "source": [
    "synthetic3AnonDf = addSyntheticRows(df, quasi_identifier_labels, 3)"
   ]
  },
  {
   "cell_type": "markdown",
   "metadata": {},
   "source": [
    "Add synthetic data when k = 4"
   ]
  },
  {
   "cell_type": "code",
   "execution_count": 17,
   "metadata": {},
   "outputs": [
    {
     "name": "stdout",
     "output_type": "stream",
     "text": [
      "Size of original dataset: 199999\n",
      "Size of synthetic dataset: 587798\n",
      "Synthetic Rows Added: 387799\n"
     ]
    }
   ],
   "source": [
    "synthetic4AnonDf = addSyntheticRows(df, quasi_identifier_labels, 4)"
   ]
  },
  {
   "cell_type": "markdown",
   "metadata": {},
   "source": [
    "Add synthetic data when k = 5"
   ]
  },
  {
   "cell_type": "code",
   "execution_count": 18,
   "metadata": {},
   "outputs": [
    {
     "name": "stdout",
     "output_type": "stream",
     "text": [
      "Size of original dataset: 199999\n",
      "Size of synthetic dataset: 723851\n",
      "Synthetic Rows Added: 523852\n"
     ]
    }
   ],
   "source": [
    "synthetic5AnonDf = addSyntheticRows(df, quasi_identifier_labels, 5)"
   ]
  },
  {
   "cell_type": "markdown",
   "metadata": {},
   "source": [
    "# Question 5\n",
    "### K-Anonymity via generalization, blurring, and suppression \n",
    "- Generalization\n",
    "    - YoB, nform_* \n",
    "- Blurring\n",
    "    - Last 3 digits of postal_code\n",
    "- Suprression \n",
    "    - Remaining \n"
   ]
  },
  {
   "cell_type": "code",
   "execution_count": 26,
   "metadata": {},
   "outputs": [],
   "source": [
    "df_quasi_q5 = df_quasi.copy()"
   ]
  },
  {
   "cell_type": "code",
   "execution_count": 27,
   "metadata": {},
   "outputs": [],
   "source": [
    "\"\"\"\n",
    "Partially replaces categorical or numerical data with \"*\" for a specified column.\n",
    "Returns data set with updated values.\n",
    "\"\"\"\n",
    "def blurring(df_quasi, col, blurStr = \"***\"):\n",
    "    # Blurr the last 3 elements of string with stars\n",
    "    df_quasi[col] = df_quasi[col]\\\n",
    "                    .astype(str)\\\n",
    "                    .apply(lambda data: data[0:(len(data) - len(blurStr))] + blurStr \n",
    "                           if len(data) > len(blurStr) else blurStr)\n",
    "    return df_quasi"
   ]
  },
  {
   "cell_type": "code",
   "execution_count": 28,
   "metadata": {},
   "outputs": [],
   "source": [
    "\"\"\"\n",
    "Categorizes data into groupings of specified and equal sizes. Returns \n",
    "categorized data set with ranges for specified columns.\n",
    "\"\"\"\n",
    "def generalizeField(df, colChange, bucketSize, maxVal):\n",
    "    col = colChange\n",
    "    df_quasi_gen = df\n",
    "    # Calculate number of categories with maximum value in column and size of each category interval \n",
    "    binNum = int(maxVal / bucketSize)\n",
    "    # Create list of categories \n",
    "    bins = [bucketSize*i for i in range(NA_FILL_VALUE-1, binNum)]\n",
    "    # Convert data to integers and assign each value to specified list of categories \n",
    "    df_quasi_gen.loc[:,col] = df_quasi_gen[col].astype(int)\n",
    "    df_quasi_gen.loc[:,col] = pd.cut(df_quasi_gen[col], bins)\n",
    "    return df_quasi_gen"
   ]
  },
  {
   "cell_type": "code",
   "execution_count": 31,
   "metadata": {},
   "outputs": [],
   "source": [
    "_ = blurring(df_quasi_q5, \"postalCode\")"
   ]
  },
  {
   "cell_type": "code",
   "execution_count": 32,
   "metadata": {
    "scrolled": true
   },
   "outputs": [],
   "source": [
    "fieldsToGeneralize = [(\"YoB\", int), (\"nforum_posts\", int), (\"nforum_votes\", int), (\"nforum_endorsed\", int), \n",
    "                      (\"nforum_threads\", int), (\"nforum_comments\", int), (\"nforum_pinned\", int)]\n",
    "\n",
    "for (field, fieldType) in fieldsToGeneralize:\n",
    "    fieldMaxValue = df_quasi_q5[[field]].astype(fieldType).max()\n",
    "    generalizeField(df_quasi_q5, field, 10, fieldMaxValue)"
   ]
  },
  {
   "cell_type": "markdown",
   "metadata": {},
   "source": [
    "### Q5. Compare the number of students who complete and explore the course in the original and in the k-anonymous sets. What does this tell you about the process of de-identification?\n",
    "The process of de-identification adds noise to the dataset, eliminates statistically relevant information, increases the size of the dataset and decreases utility. The completion rates in the k-anonymous sets were <span style=\"color:red\">[get the numbers]</span>."
   ]
  },
  {
   "cell_type": "code",
   "execution_count": 46,
   "metadata": {},
   "outputs": [
    {
     "name": "stdout",
     "output_type": "stream",
     "text": [
      "The unanonymized completion rate was: 2.78%\n"
     ]
    }
   ],
   "source": [
    "overallCompletionRate = df.completed.apply(lambda x: 1 if x == 'True' else 0).sum() / float(len(df))\n",
    "print(\"The unanonymized completion rate was: %.2f%%\" % (overallCompletionRate * 100))"
   ]
  },
  {
   "cell_type": "code",
   "execution_count": 47,
   "metadata": {},
   "outputs": [
    {
     "name": "stdout",
     "output_type": "stream",
     "text": [
      "Size of 3-anonymous dataset after suppression, blurring, and generalization: 104702\n",
      "3-anonymous Completion Rate: 1.66%\n",
      "\n",
      "Size of 4-anonymous dataset after suppression, blurring, and generalization: 94181\n",
      "4-anonymous Completion Rate: 1.56%\n",
      "\n",
      "Size of 5-anonymous dataset after suppression, blurring, and generalization: 86925\n",
      "5-anonymous Completion Rate: 1.51%\n",
      "\n"
     ]
    }
   ],
   "source": [
    "for k in [3,4,5]:\n",
    "    getKAnonFeatureRate(df_quasi_q5, df.completed, quasi_identifier_labels, k, \n",
    "                        techniquesUsed=\"suppression, blurring, and generalization\")\n",
    "    print(\"\")"
   ]
  },
  {
   "cell_type": "code",
   "execution_count": 49,
   "metadata": {},
   "outputs": [
    {
     "name": "stdout",
     "output_type": "stream",
     "text": [
      "The unanonymized explored rate was: 13.43%\n"
     ]
    }
   ],
   "source": [
    "overallExploredRate = df.explored.apply(lambda x: 1 if x == 'True' else 0).sum() / float(len(df))\n",
    "print(\"The unanonymized explored rate was: %.2f%%\" % (overallExploredRate * 100))"
   ]
  },
  {
   "cell_type": "code",
   "execution_count": 50,
   "metadata": {},
   "outputs": [
    {
     "name": "stdout",
     "output_type": "stream",
     "text": [
      "Size of 3-anonymous dataset after suppression, blurring, and generalization: 104702\n",
      "3-anonymous Explored Rate: 12.78%\n",
      "\n",
      "Size of 4-anonymous dataset after suppression, blurring, and generalization: 94181\n",
      "4-anonymous Explored Rate: 12.44%\n",
      "\n",
      "Size of 5-anonymous dataset after suppression, blurring, and generalization: 86925\n",
      "5-anonymous Explored Rate: 12.13%\n",
      "\n"
     ]
    }
   ],
   "source": [
    "for k in [3,4,5]:\n",
    "    getKAnonFeatureRate(df_quasi_q5, df.explored, quasi_identifier_labels, k, featurePrintableName=\"Explored\",\n",
    "                       techniquesUsed=\"suppression, blurring, and generalization\")\n",
    "    print(\"\")"
   ]
  },
  {
   "cell_type": "code",
   "execution_count": 54,
   "metadata": {},
   "outputs": [
    {
     "data": {
      "text/plain": [
       "0.4568345323741007"
      ]
     },
     "execution_count": 54,
     "metadata": {},
     "output_type": "execute_result"
    }
   ],
   "source": [
    "(278 - 151) / 278"
   ]
  },
  {
   "cell_type": "markdown",
   "metadata": {},
   "source": [
    "The fact that the unanoymized exploration rate (13.43%) was between 4.8% and 9.6% higher than the exploration rates derived from the 3, 4, and 5 anonymous datasets while the unanoymized completion rate (2.78%) was between 40% and 45% higher than the completion rates derived from the 3, 4, and 5 anonymous datasets suggests that the individuals who completed the edX courses are much more similar to one another than two members of the entire population would be.  By anonymizing the dataset, it seems that many of the rows that were suppressed were those corresponding to individuals who completed the course because the anonymous completion estimates were so much lower than that of the true dataset.  "
   ]
  },
  {
   "cell_type": "markdown",
   "metadata": {},
   "source": [
    "# Question 6\n",
    "### L-Diversity\n",
    "- Used to determine distinguishability among indistunghisable quasi-identifiers but distinguishable sensitive attributes\n",
    "- Sensitive attributes include: grade\n",
    "- Determine level of l-diversity in order to strengthen k-anonymity"
   ]
  },
  {
   "cell_type": "code",
   "execution_count": 35,
   "metadata": {},
   "outputs": [],
   "source": [
    "df_quasi_q6 = df_quasi.copy()\n",
    "# Add column of sensitive values to dataset that is k-anonymous\n",
    "df_quasi_q6[\"grade\"] = df[\"grade\"]"
   ]
  },
  {
   "cell_type": "code",
   "execution_count": 36,
   "metadata": {},
   "outputs": [
    {
     "data": {
      "text/plain": [
       "0     7\n",
       "1    18\n",
       "2     2\n",
       "3     1\n",
       "4     1\n",
       "Name: l-diversity-grade, dtype: int64"
      ]
     },
     "execution_count": 36,
     "metadata": {},
     "output_type": "execute_result"
    }
   ],
   "source": [
    "lDiverseLevels = df_quasi_q6.groupby(quasi_identifier_labels)[\"grade\"].nunique().reset_index(name = \"l-diversity-grade\")\n",
    "# Find level of diversity (number of unique grades) for each grouping of quasi-identifiers\n",
    "lDiverseLevels[\"l-diversity-grade\"].head()"
   ]
  },
  {
   "cell_type": "code",
   "execution_count": 38,
   "metadata": {},
   "outputs": [
    {
     "data": {
      "text/plain": [
       "[1, 2, 3, 4, 5, 6, 7, 8, 9, 10, 11, 13, 16, 18, 19]"
      ]
     },
     "execution_count": 38,
     "metadata": {},
     "output_type": "execute_result"
    }
   ],
   "source": [
    "sorted(lDiverseLevels[\"l-diversity-grade\"].unique())"
   ]
  },
  {
   "cell_type": "markdown",
   "metadata": {},
   "source": [
    "### Q6. What fields in the data set might be considered \"sensitive\" \n",
    "- A student's grade may be considered sensitive\n",
    "    ### In your datasets in 5), what level of l-diversity do the data sets have with respect to these fields?\n",
    "- The level od l-diversity for each set of quasi-identifiers is indicated under the \"l-diversity-grade\" column in lDiverseLevels.\n",
    "    ###  How might you get to a higher level of l-diversity?\n",
    "- Generalize both categorical and numerical data\n",
    "- Test for differential privacy \n"
   ]
  }
 ],
 "metadata": {
  "kernelspec": {
   "display_name": "Python 3",
   "language": "python",
   "name": "python3"
  },
  "language_info": {
   "codemirror_mode": {
    "name": "ipython",
    "version": 3
   },
   "file_extension": ".py",
   "mimetype": "text/x-python",
   "name": "python",
   "nbconvert_exporter": "python",
   "pygments_lexer": "ipython3",
   "version": "3.6.2"
  }
 },
 "nbformat": 4,
 "nbformat_minor": 2
}
