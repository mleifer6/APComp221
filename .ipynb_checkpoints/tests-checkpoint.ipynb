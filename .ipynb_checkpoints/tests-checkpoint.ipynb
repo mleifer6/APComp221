{
 "cells": [
  {
   "cell_type": "markdown",
   "metadata": {},
   "source": [
    "### Unit Tests"
   ]
  },
  {
   "cell_type": "code",
   "execution_count": 1,
   "metadata": {},
   "outputs": [
    {
     "ename": "ModuleNotFoundError",
     "evalue": "No module named 'identification'",
     "output_type": "error",
     "traceback": [
      "\u001b[0;31m---------------------------------------------------------------------------\u001b[0m",
      "\u001b[0;31mModuleNotFoundError\u001b[0m                       Traceback (most recent call last)",
      "\u001b[0;32m<ipython-input-1-ee301b12b288>\u001b[0m in \u001b[0;36m<module>\u001b[0;34m()\u001b[0m\n\u001b[1;32m      1\u001b[0m \u001b[0;32mimport\u001b[0m \u001b[0munittest\u001b[0m\u001b[0;34m\u001b[0m\u001b[0m\n\u001b[0;32m----> 2\u001b[0;31m \u001b[0;32mimport\u001b[0m \u001b[0midentification\u001b[0m\u001b[0;34m.\u001b[0m\u001b[0mipynb\u001b[0m \u001b[0;32mas\u001b[0m \u001b[0miden\u001b[0m\u001b[0;34m\u001b[0m\u001b[0m\n\u001b[0m\u001b[1;32m      3\u001b[0m \u001b[0;34m\u001b[0m\u001b[0m\n\u001b[1;32m      4\u001b[0m \u001b[0mreload\u001b[0m\u001b[0;34m(\u001b[0m\u001b[0miden\u001b[0m\u001b[0;34m)\u001b[0m\u001b[0;34m\u001b[0m\u001b[0m\n\u001b[1;32m      5\u001b[0m \u001b[0;34m\u001b[0m\u001b[0m\n",
      "\u001b[0;31mModuleNotFoundError\u001b[0m: No module named 'identification'"
     ]
    }
   ],
   "source": [
    "import unittest\n",
    "# import identification.ipynb as iden\n",
    "\n",
    "# reload(iden)\n",
    "\n",
    "def test_config(self):\n",
    "    self.assertEqual('[0,1,2,3,4]'.read_config(), 'FOO')\n",
    "\n",
    "def test_getKAnonFeatureRate(self):\n",
    "    self.assertTrue('FOO'.isupper())\n",
    "    self.assertFalse('Foo'.isupper())\n",
    "\n",
    "def test_addSyntheticRows(self):\n",
    "    s = 'hello world'\n",
    "    self.assertEqual(s.split(), ['hello', 'world'])\n",
    "    # check that s.split fails when the separator is not a string\n",
    "    with self.assertRaises(TypeError):\n",
    "        s.split(2)\n",
    "        \n",
    "def test_blurring(self):\n",
    "    \n",
    "def test_generalizeField(self):\n"
   ]
  },
  {
   "cell_type": "code",
   "execution_count": null,
   "metadata": {},
   "outputs": [],
   "source": []
  }
 ],
 "metadata": {
  "kernelspec": {
   "display_name": "Python 3",
   "language": "python",
   "name": "python3"
  },
  "language_info": {
   "codemirror_mode": {
    "name": "ipython",
    "version": 3
   },
   "file_extension": ".py",
   "mimetype": "text/x-python",
   "name": "python",
   "nbconvert_exporter": "python",
   "pygments_lexer": "ipython3",
   "version": "3.6.4"
  }
 },
 "nbformat": 4,
 "nbformat_minor": 2
}
